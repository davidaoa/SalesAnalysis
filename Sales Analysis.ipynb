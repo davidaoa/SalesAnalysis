{
 "cells": [
  {
   "cell_type": "code",
   "execution_count": 2,
   "metadata": {},
   "outputs": [],
   "source": [
    "import pandas as pd\n",
    "import os\n",
    "import matplotlib.pyplot as plt\n",
    "import numpy as np"
   ]
  },
  {
   "cell_type": "markdown",
   "metadata": {},
   "source": [
    "### Merge 12 months of sales into one CSV file"
   ]
  },
  {
   "cell_type": "code",
   "execution_count": 4,
   "metadata": {},
   "outputs": [],
   "source": [
    "df = pd.read_csv(\"./Monthly_Sales/Sales_April_2019.csv\")\n",
    "\n",
    "files = [file for file in os.listdir('./Monthly_Sales')]\n",
    "\n",
    "all_months_data = pd.DataFrame()\n",
    "\n",
    "for file in files:\n",
    "    df = pd.read_csv(\"./Monthly_Sales/\"+file)\n",
    "    all_months_data = pd.concat([all_months_data, df])\n",
    "    \n",
    "all_months_data.to_csv(\"all_data.csv\", index=False)"
   ]
  },
  {
   "cell_type": "markdown",
   "metadata": {},
   "source": [
    "### Updated dataframe"
   ]
  },
  {
   "cell_type": "code",
   "execution_count": 5,
   "metadata": {
    "scrolled": false
   },
   "outputs": [
    {
     "data": {
      "text/html": [
       "<div>\n",
       "<style scoped>\n",
       "    .dataframe tbody tr th:only-of-type {\n",
       "        vertical-align: middle;\n",
       "    }\n",
       "\n",
       "    .dataframe tbody tr th {\n",
       "        vertical-align: top;\n",
       "    }\n",
       "\n",
       "    .dataframe thead th {\n",
       "        text-align: right;\n",
       "    }\n",
       "</style>\n",
       "<table border=\"1\" class=\"dataframe\">\n",
       "  <thead>\n",
       "    <tr style=\"text-align: right;\">\n",
       "      <th></th>\n",
       "      <th>Order ID</th>\n",
       "      <th>Product</th>\n",
       "      <th>Quantity Ordered</th>\n",
       "      <th>Price Each</th>\n",
       "      <th>Order Date</th>\n",
       "      <th>Purchase Address</th>\n",
       "    </tr>\n",
       "  </thead>\n",
       "  <tbody>\n",
       "    <tr>\n",
       "      <th>0</th>\n",
       "      <td>176558</td>\n",
       "      <td>USB-C Charging Cable</td>\n",
       "      <td>2</td>\n",
       "      <td>11.95</td>\n",
       "      <td>04/19/19 08:46</td>\n",
       "      <td>917 1st St, Dallas, TX 75001</td>\n",
       "    </tr>\n",
       "    <tr>\n",
       "      <th>1</th>\n",
       "      <td>NaN</td>\n",
       "      <td>NaN</td>\n",
       "      <td>NaN</td>\n",
       "      <td>NaN</td>\n",
       "      <td>NaN</td>\n",
       "      <td>NaN</td>\n",
       "    </tr>\n",
       "    <tr>\n",
       "      <th>2</th>\n",
       "      <td>176559</td>\n",
       "      <td>Bose SoundSport Headphones</td>\n",
       "      <td>1</td>\n",
       "      <td>99.99</td>\n",
       "      <td>04/07/19 22:30</td>\n",
       "      <td>682 Chestnut St, Boston, MA 02215</td>\n",
       "    </tr>\n",
       "    <tr>\n",
       "      <th>3</th>\n",
       "      <td>176560</td>\n",
       "      <td>Google Phone</td>\n",
       "      <td>1</td>\n",
       "      <td>600</td>\n",
       "      <td>04/12/19 14:38</td>\n",
       "      <td>669 Spruce St, Los Angeles, CA 90001</td>\n",
       "    </tr>\n",
       "    <tr>\n",
       "      <th>4</th>\n",
       "      <td>176560</td>\n",
       "      <td>Wired Headphones</td>\n",
       "      <td>1</td>\n",
       "      <td>11.99</td>\n",
       "      <td>04/12/19 14:38</td>\n",
       "      <td>669 Spruce St, Los Angeles, CA 90001</td>\n",
       "    </tr>\n",
       "  </tbody>\n",
       "</table>\n",
       "</div>"
      ],
      "text/plain": [
       "  Order ID                     Product Quantity Ordered Price Each  \\\n",
       "0   176558        USB-C Charging Cable                2      11.95   \n",
       "1      NaN                         NaN              NaN        NaN   \n",
       "2   176559  Bose SoundSport Headphones                1      99.99   \n",
       "3   176560                Google Phone                1        600   \n",
       "4   176560            Wired Headphones                1      11.99   \n",
       "\n",
       "       Order Date                      Purchase Address  \n",
       "0  04/19/19 08:46          917 1st St, Dallas, TX 75001  \n",
       "1             NaN                                   NaN  \n",
       "2  04/07/19 22:30     682 Chestnut St, Boston, MA 02215  \n",
       "3  04/12/19 14:38  669 Spruce St, Los Angeles, CA 90001  \n",
       "4  04/12/19 14:38  669 Spruce St, Los Angeles, CA 90001  "
      ]
     },
     "execution_count": 5,
     "metadata": {},
     "output_type": "execute_result"
    }
   ],
   "source": [
    "all_data = pd.read_csv(\"all_data.csv\")\n",
    "all_data.head()"
   ]
  },
  {
   "cell_type": "markdown",
   "metadata": {},
   "source": [
    "### Cleaning up data"
   ]
  },
  {
   "cell_type": "markdown",
   "metadata": {},
   "source": [
    "#### Drop rows of NAN"
   ]
  },
  {
   "cell_type": "code",
   "execution_count": 6,
   "metadata": {},
   "outputs": [
    {
     "data": {
      "text/html": [
       "<div>\n",
       "<style scoped>\n",
       "    .dataframe tbody tr th:only-of-type {\n",
       "        vertical-align: middle;\n",
       "    }\n",
       "\n",
       "    .dataframe tbody tr th {\n",
       "        vertical-align: top;\n",
       "    }\n",
       "\n",
       "    .dataframe thead th {\n",
       "        text-align: right;\n",
       "    }\n",
       "</style>\n",
       "<table border=\"1\" class=\"dataframe\">\n",
       "  <thead>\n",
       "    <tr style=\"text-align: right;\">\n",
       "      <th></th>\n",
       "      <th>Order ID</th>\n",
       "      <th>Product</th>\n",
       "      <th>Quantity Ordered</th>\n",
       "      <th>Price Each</th>\n",
       "      <th>Order Date</th>\n",
       "      <th>Purchase Address</th>\n",
       "    </tr>\n",
       "  </thead>\n",
       "  <tbody>\n",
       "    <tr>\n",
       "      <th>0</th>\n",
       "      <td>176558</td>\n",
       "      <td>USB-C Charging Cable</td>\n",
       "      <td>2</td>\n",
       "      <td>11.95</td>\n",
       "      <td>04/19/19 08:46</td>\n",
       "      <td>917 1st St, Dallas, TX 75001</td>\n",
       "    </tr>\n",
       "    <tr>\n",
       "      <th>2</th>\n",
       "      <td>176559</td>\n",
       "      <td>Bose SoundSport Headphones</td>\n",
       "      <td>1</td>\n",
       "      <td>99.99</td>\n",
       "      <td>04/07/19 22:30</td>\n",
       "      <td>682 Chestnut St, Boston, MA 02215</td>\n",
       "    </tr>\n",
       "    <tr>\n",
       "      <th>3</th>\n",
       "      <td>176560</td>\n",
       "      <td>Google Phone</td>\n",
       "      <td>1</td>\n",
       "      <td>600</td>\n",
       "      <td>04/12/19 14:38</td>\n",
       "      <td>669 Spruce St, Los Angeles, CA 90001</td>\n",
       "    </tr>\n",
       "    <tr>\n",
       "      <th>4</th>\n",
       "      <td>176560</td>\n",
       "      <td>Wired Headphones</td>\n",
       "      <td>1</td>\n",
       "      <td>11.99</td>\n",
       "      <td>04/12/19 14:38</td>\n",
       "      <td>669 Spruce St, Los Angeles, CA 90001</td>\n",
       "    </tr>\n",
       "    <tr>\n",
       "      <th>5</th>\n",
       "      <td>176561</td>\n",
       "      <td>Wired Headphones</td>\n",
       "      <td>1</td>\n",
       "      <td>11.99</td>\n",
       "      <td>04/30/19 09:27</td>\n",
       "      <td>333 8th St, Los Angeles, CA 90001</td>\n",
       "    </tr>\n",
       "  </tbody>\n",
       "</table>\n",
       "</div>"
      ],
      "text/plain": [
       "  Order ID                     Product Quantity Ordered Price Each  \\\n",
       "0   176558        USB-C Charging Cable                2      11.95   \n",
       "2   176559  Bose SoundSport Headphones                1      99.99   \n",
       "3   176560                Google Phone                1        600   \n",
       "4   176560            Wired Headphones                1      11.99   \n",
       "5   176561            Wired Headphones                1      11.99   \n",
       "\n",
       "       Order Date                      Purchase Address  \n",
       "0  04/19/19 08:46          917 1st St, Dallas, TX 75001  \n",
       "2  04/07/19 22:30     682 Chestnut St, Boston, MA 02215  \n",
       "3  04/12/19 14:38  669 Spruce St, Los Angeles, CA 90001  \n",
       "4  04/12/19 14:38  669 Spruce St, Los Angeles, CA 90001  \n",
       "5  04/30/19 09:27     333 8th St, Los Angeles, CA 90001  "
      ]
     },
     "execution_count": 6,
     "metadata": {},
     "output_type": "execute_result"
    }
   ],
   "source": [
    "nan_df = all_data[all_data.isna().any(axis=1)]\n",
    "nan_df.head()\n",
    "\n",
    "all_data = all_data.dropna(how='all')\n",
    "all_data.head()"
   ]
  },
  {
   "cell_type": "markdown",
   "metadata": {},
   "source": [
    "#### Removing text in Order Date column"
   ]
  },
  {
   "cell_type": "code",
   "execution_count": 7,
   "metadata": {},
   "outputs": [],
   "source": [
    "all_data = all_data[all_data['Order Date'].str[0:2]!='Or']"
   ]
  },
  {
   "cell_type": "markdown",
   "metadata": {},
   "source": [
    "#### Correct column types"
   ]
  },
  {
   "cell_type": "code",
   "execution_count": 8,
   "metadata": {},
   "outputs": [],
   "source": [
    "all_data['Quantity Ordered'] = pd.to_numeric(all_data['Quantity Ordered'])\n",
    "all_data['Price Each'] = pd.to_numeric(all_data['Price Each'])"
   ]
  },
  {
   "cell_type": "markdown",
   "metadata": {},
   "source": [
    "### Augment data with additional columns"
   ]
  },
  {
   "cell_type": "markdown",
   "metadata": {},
   "source": [
    "#### Add Month column"
   ]
  },
  {
   "cell_type": "code",
   "execution_count": 9,
   "metadata": {
    "scrolled": false
   },
   "outputs": [
    {
     "data": {
      "text/html": [
       "<div>\n",
       "<style scoped>\n",
       "    .dataframe tbody tr th:only-of-type {\n",
       "        vertical-align: middle;\n",
       "    }\n",
       "\n",
       "    .dataframe tbody tr th {\n",
       "        vertical-align: top;\n",
       "    }\n",
       "\n",
       "    .dataframe thead th {\n",
       "        text-align: right;\n",
       "    }\n",
       "</style>\n",
       "<table border=\"1\" class=\"dataframe\">\n",
       "  <thead>\n",
       "    <tr style=\"text-align: right;\">\n",
       "      <th></th>\n",
       "      <th>Order ID</th>\n",
       "      <th>Product</th>\n",
       "      <th>Quantity Ordered</th>\n",
       "      <th>Price Each</th>\n",
       "      <th>Order Date</th>\n",
       "      <th>Purchase Address</th>\n",
       "      <th>Month</th>\n",
       "    </tr>\n",
       "  </thead>\n",
       "  <tbody>\n",
       "    <tr>\n",
       "      <th>0</th>\n",
       "      <td>176558</td>\n",
       "      <td>USB-C Charging Cable</td>\n",
       "      <td>2</td>\n",
       "      <td>11.95</td>\n",
       "      <td>04/19/19 08:46</td>\n",
       "      <td>917 1st St, Dallas, TX 75001</td>\n",
       "      <td>4</td>\n",
       "    </tr>\n",
       "    <tr>\n",
       "      <th>2</th>\n",
       "      <td>176559</td>\n",
       "      <td>Bose SoundSport Headphones</td>\n",
       "      <td>1</td>\n",
       "      <td>99.99</td>\n",
       "      <td>04/07/19 22:30</td>\n",
       "      <td>682 Chestnut St, Boston, MA 02215</td>\n",
       "      <td>4</td>\n",
       "    </tr>\n",
       "    <tr>\n",
       "      <th>3</th>\n",
       "      <td>176560</td>\n",
       "      <td>Google Phone</td>\n",
       "      <td>1</td>\n",
       "      <td>600.00</td>\n",
       "      <td>04/12/19 14:38</td>\n",
       "      <td>669 Spruce St, Los Angeles, CA 90001</td>\n",
       "      <td>4</td>\n",
       "    </tr>\n",
       "    <tr>\n",
       "      <th>4</th>\n",
       "      <td>176560</td>\n",
       "      <td>Wired Headphones</td>\n",
       "      <td>1</td>\n",
       "      <td>11.99</td>\n",
       "      <td>04/12/19 14:38</td>\n",
       "      <td>669 Spruce St, Los Angeles, CA 90001</td>\n",
       "      <td>4</td>\n",
       "    </tr>\n",
       "    <tr>\n",
       "      <th>5</th>\n",
       "      <td>176561</td>\n",
       "      <td>Wired Headphones</td>\n",
       "      <td>1</td>\n",
       "      <td>11.99</td>\n",
       "      <td>04/30/19 09:27</td>\n",
       "      <td>333 8th St, Los Angeles, CA 90001</td>\n",
       "      <td>4</td>\n",
       "    </tr>\n",
       "  </tbody>\n",
       "</table>\n",
       "</div>"
      ],
      "text/plain": [
       "  Order ID                     Product  Quantity Ordered  Price Each  \\\n",
       "0   176558        USB-C Charging Cable                 2       11.95   \n",
       "2   176559  Bose SoundSport Headphones                 1       99.99   \n",
       "3   176560                Google Phone                 1      600.00   \n",
       "4   176560            Wired Headphones                 1       11.99   \n",
       "5   176561            Wired Headphones                 1       11.99   \n",
       "\n",
       "       Order Date                      Purchase Address  Month  \n",
       "0  04/19/19 08:46          917 1st St, Dallas, TX 75001      4  \n",
       "2  04/07/19 22:30     682 Chestnut St, Boston, MA 02215      4  \n",
       "3  04/12/19 14:38  669 Spruce St, Los Angeles, CA 90001      4  \n",
       "4  04/12/19 14:38  669 Spruce St, Los Angeles, CA 90001      4  \n",
       "5  04/30/19 09:27     333 8th St, Los Angeles, CA 90001      4  "
      ]
     },
     "execution_count": 9,
     "metadata": {},
     "output_type": "execute_result"
    }
   ],
   "source": [
    "all_data['Month'] = all_data['Order Date'].str[0:2]\n",
    "all_data['Month'] = all_data['Month'].astype('int32')\n",
    "all_data.head()"
   ]
  },
  {
   "cell_type": "markdown",
   "metadata": {},
   "source": [
    "#### Add Sales column"
   ]
  },
  {
   "cell_type": "code",
   "execution_count": 10,
   "metadata": {},
   "outputs": [
    {
     "data": {
      "text/html": [
       "<div>\n",
       "<style scoped>\n",
       "    .dataframe tbody tr th:only-of-type {\n",
       "        vertical-align: middle;\n",
       "    }\n",
       "\n",
       "    .dataframe tbody tr th {\n",
       "        vertical-align: top;\n",
       "    }\n",
       "\n",
       "    .dataframe thead th {\n",
       "        text-align: right;\n",
       "    }\n",
       "</style>\n",
       "<table border=\"1\" class=\"dataframe\">\n",
       "  <thead>\n",
       "    <tr style=\"text-align: right;\">\n",
       "      <th></th>\n",
       "      <th>Order ID</th>\n",
       "      <th>Product</th>\n",
       "      <th>Quantity Ordered</th>\n",
       "      <th>Price Each</th>\n",
       "      <th>Order Date</th>\n",
       "      <th>Purchase Address</th>\n",
       "      <th>Month</th>\n",
       "      <th>Sales</th>\n",
       "    </tr>\n",
       "  </thead>\n",
       "  <tbody>\n",
       "    <tr>\n",
       "      <th>0</th>\n",
       "      <td>176558</td>\n",
       "      <td>USB-C Charging Cable</td>\n",
       "      <td>2</td>\n",
       "      <td>11.95</td>\n",
       "      <td>04/19/19 08:46</td>\n",
       "      <td>917 1st St, Dallas, TX 75001</td>\n",
       "      <td>4</td>\n",
       "      <td>23.90</td>\n",
       "    </tr>\n",
       "    <tr>\n",
       "      <th>2</th>\n",
       "      <td>176559</td>\n",
       "      <td>Bose SoundSport Headphones</td>\n",
       "      <td>1</td>\n",
       "      <td>99.99</td>\n",
       "      <td>04/07/19 22:30</td>\n",
       "      <td>682 Chestnut St, Boston, MA 02215</td>\n",
       "      <td>4</td>\n",
       "      <td>99.99</td>\n",
       "    </tr>\n",
       "    <tr>\n",
       "      <th>3</th>\n",
       "      <td>176560</td>\n",
       "      <td>Google Phone</td>\n",
       "      <td>1</td>\n",
       "      <td>600.00</td>\n",
       "      <td>04/12/19 14:38</td>\n",
       "      <td>669 Spruce St, Los Angeles, CA 90001</td>\n",
       "      <td>4</td>\n",
       "      <td>600.00</td>\n",
       "    </tr>\n",
       "    <tr>\n",
       "      <th>4</th>\n",
       "      <td>176560</td>\n",
       "      <td>Wired Headphones</td>\n",
       "      <td>1</td>\n",
       "      <td>11.99</td>\n",
       "      <td>04/12/19 14:38</td>\n",
       "      <td>669 Spruce St, Los Angeles, CA 90001</td>\n",
       "      <td>4</td>\n",
       "      <td>11.99</td>\n",
       "    </tr>\n",
       "    <tr>\n",
       "      <th>5</th>\n",
       "      <td>176561</td>\n",
       "      <td>Wired Headphones</td>\n",
       "      <td>1</td>\n",
       "      <td>11.99</td>\n",
       "      <td>04/30/19 09:27</td>\n",
       "      <td>333 8th St, Los Angeles, CA 90001</td>\n",
       "      <td>4</td>\n",
       "      <td>11.99</td>\n",
       "    </tr>\n",
       "  </tbody>\n",
       "</table>\n",
       "</div>"
      ],
      "text/plain": [
       "  Order ID                     Product  Quantity Ordered  Price Each  \\\n",
       "0   176558        USB-C Charging Cable                 2       11.95   \n",
       "2   176559  Bose SoundSport Headphones                 1       99.99   \n",
       "3   176560                Google Phone                 1      600.00   \n",
       "4   176560            Wired Headphones                 1       11.99   \n",
       "5   176561            Wired Headphones                 1       11.99   \n",
       "\n",
       "       Order Date                      Purchase Address  Month   Sales  \n",
       "0  04/19/19 08:46          917 1st St, Dallas, TX 75001      4   23.90  \n",
       "2  04/07/19 22:30     682 Chestnut St, Boston, MA 02215      4   99.99  \n",
       "3  04/12/19 14:38  669 Spruce St, Los Angeles, CA 90001      4  600.00  \n",
       "4  04/12/19 14:38  669 Spruce St, Los Angeles, CA 90001      4   11.99  \n",
       "5  04/30/19 09:27     333 8th St, Los Angeles, CA 90001      4   11.99  "
      ]
     },
     "execution_count": 10,
     "metadata": {},
     "output_type": "execute_result"
    }
   ],
   "source": [
    "all_data['Sales'] = all_data['Quantity Ordered'] * all_data['Price Each']\n",
    "all_data.head()"
   ]
  },
  {
   "cell_type": "markdown",
   "metadata": {},
   "source": [
    "#### Add City column"
   ]
  },
  {
   "cell_type": "code",
   "execution_count": 11,
   "metadata": {},
   "outputs": [
    {
     "data": {
      "text/html": [
       "<div>\n",
       "<style scoped>\n",
       "    .dataframe tbody tr th:only-of-type {\n",
       "        vertical-align: middle;\n",
       "    }\n",
       "\n",
       "    .dataframe tbody tr th {\n",
       "        vertical-align: top;\n",
       "    }\n",
       "\n",
       "    .dataframe thead th {\n",
       "        text-align: right;\n",
       "    }\n",
       "</style>\n",
       "<table border=\"1\" class=\"dataframe\">\n",
       "  <thead>\n",
       "    <tr style=\"text-align: right;\">\n",
       "      <th></th>\n",
       "      <th>Order ID</th>\n",
       "      <th>Product</th>\n",
       "      <th>Quantity Ordered</th>\n",
       "      <th>Price Each</th>\n",
       "      <th>Order Date</th>\n",
       "      <th>Purchase Address</th>\n",
       "      <th>Month</th>\n",
       "      <th>Sales</th>\n",
       "      <th>City</th>\n",
       "    </tr>\n",
       "  </thead>\n",
       "  <tbody>\n",
       "    <tr>\n",
       "      <th>0</th>\n",
       "      <td>176558</td>\n",
       "      <td>USB-C Charging Cable</td>\n",
       "      <td>2</td>\n",
       "      <td>11.95</td>\n",
       "      <td>04/19/19 08:46</td>\n",
       "      <td>917 1st St, Dallas, TX 75001</td>\n",
       "      <td>4</td>\n",
       "      <td>23.90</td>\n",
       "      <td>Dallas  (TX)</td>\n",
       "    </tr>\n",
       "    <tr>\n",
       "      <th>2</th>\n",
       "      <td>176559</td>\n",
       "      <td>Bose SoundSport Headphones</td>\n",
       "      <td>1</td>\n",
       "      <td>99.99</td>\n",
       "      <td>04/07/19 22:30</td>\n",
       "      <td>682 Chestnut St, Boston, MA 02215</td>\n",
       "      <td>4</td>\n",
       "      <td>99.99</td>\n",
       "      <td>Boston  (MA)</td>\n",
       "    </tr>\n",
       "    <tr>\n",
       "      <th>3</th>\n",
       "      <td>176560</td>\n",
       "      <td>Google Phone</td>\n",
       "      <td>1</td>\n",
       "      <td>600.00</td>\n",
       "      <td>04/12/19 14:38</td>\n",
       "      <td>669 Spruce St, Los Angeles, CA 90001</td>\n",
       "      <td>4</td>\n",
       "      <td>600.00</td>\n",
       "      <td>Los Angeles  (CA)</td>\n",
       "    </tr>\n",
       "    <tr>\n",
       "      <th>4</th>\n",
       "      <td>176560</td>\n",
       "      <td>Wired Headphones</td>\n",
       "      <td>1</td>\n",
       "      <td>11.99</td>\n",
       "      <td>04/12/19 14:38</td>\n",
       "      <td>669 Spruce St, Los Angeles, CA 90001</td>\n",
       "      <td>4</td>\n",
       "      <td>11.99</td>\n",
       "      <td>Los Angeles  (CA)</td>\n",
       "    </tr>\n",
       "    <tr>\n",
       "      <th>5</th>\n",
       "      <td>176561</td>\n",
       "      <td>Wired Headphones</td>\n",
       "      <td>1</td>\n",
       "      <td>11.99</td>\n",
       "      <td>04/30/19 09:27</td>\n",
       "      <td>333 8th St, Los Angeles, CA 90001</td>\n",
       "      <td>4</td>\n",
       "      <td>11.99</td>\n",
       "      <td>Los Angeles  (CA)</td>\n",
       "    </tr>\n",
       "  </tbody>\n",
       "</table>\n",
       "</div>"
      ],
      "text/plain": [
       "  Order ID                     Product  Quantity Ordered  Price Each  \\\n",
       "0   176558        USB-C Charging Cable                 2       11.95   \n",
       "2   176559  Bose SoundSport Headphones                 1       99.99   \n",
       "3   176560                Google Phone                 1      600.00   \n",
       "4   176560            Wired Headphones                 1       11.99   \n",
       "5   176561            Wired Headphones                 1       11.99   \n",
       "\n",
       "       Order Date                      Purchase Address  Month   Sales  \\\n",
       "0  04/19/19 08:46          917 1st St, Dallas, TX 75001      4   23.90   \n",
       "2  04/07/19 22:30     682 Chestnut St, Boston, MA 02215      4   99.99   \n",
       "3  04/12/19 14:38  669 Spruce St, Los Angeles, CA 90001      4  600.00   \n",
       "4  04/12/19 14:38  669 Spruce St, Los Angeles, CA 90001      4   11.99   \n",
       "5  04/30/19 09:27     333 8th St, Los Angeles, CA 90001      4   11.99   \n",
       "\n",
       "                City  \n",
       "0       Dallas  (TX)  \n",
       "2       Boston  (MA)  \n",
       "3  Los Angeles  (CA)  \n",
       "4  Los Angeles  (CA)  \n",
       "5  Los Angeles  (CA)  "
      ]
     },
     "execution_count": 11,
     "metadata": {},
     "output_type": "execute_result"
    }
   ],
   "source": [
    "def get_city(address):\n",
    "    return address.split(\",\")[1].strip(\" \")\n",
    "\n",
    "def get_state(address):\n",
    "    return address.split(\",\")[2].split(\" \")[1]\n",
    "\n",
    "all_data['City'] = all_data['Purchase Address'].apply(lambda x: f\"{get_city(x)}  ({get_state(x)})\")\n",
    "all_data.head()"
   ]
  },
  {
   "cell_type": "markdown",
   "metadata": {},
   "source": [
    "### Exploring the Data"
   ]
  },
  {
   "cell_type": "markdown",
   "metadata": {},
   "source": [
    "### What were the best and worse months for sales in 2019? How much was earned in those months?"
   ]
  },
  {
   "cell_type": "code",
   "execution_count": 12,
   "metadata": {},
   "outputs": [
    {
     "data": {
      "text/html": [
       "<div>\n",
       "<style scoped>\n",
       "    .dataframe tbody tr th:only-of-type {\n",
       "        vertical-align: middle;\n",
       "    }\n",
       "\n",
       "    .dataframe tbody tr th {\n",
       "        vertical-align: top;\n",
       "    }\n",
       "\n",
       "    .dataframe thead th {\n",
       "        text-align: right;\n",
       "    }\n",
       "</style>\n",
       "<table border=\"1\" class=\"dataframe\">\n",
       "  <thead>\n",
       "    <tr style=\"text-align: right;\">\n",
       "      <th></th>\n",
       "      <th>Quantity Ordered</th>\n",
       "      <th>Price Each</th>\n",
       "      <th>Sales</th>\n",
       "    </tr>\n",
       "    <tr>\n",
       "      <th>Month</th>\n",
       "      <th></th>\n",
       "      <th></th>\n",
       "      <th></th>\n",
       "    </tr>\n",
       "  </thead>\n",
       "  <tbody>\n",
       "    <tr>\n",
       "      <th>1</th>\n",
       "      <td>10903</td>\n",
       "      <td>1.811768e+06</td>\n",
       "      <td>1.822257e+06</td>\n",
       "    </tr>\n",
       "    <tr>\n",
       "      <th>2</th>\n",
       "      <td>13449</td>\n",
       "      <td>2.188885e+06</td>\n",
       "      <td>2.202022e+06</td>\n",
       "    </tr>\n",
       "    <tr>\n",
       "      <th>3</th>\n",
       "      <td>17005</td>\n",
       "      <td>2.791208e+06</td>\n",
       "      <td>2.807100e+06</td>\n",
       "    </tr>\n",
       "    <tr>\n",
       "      <th>4</th>\n",
       "      <td>20558</td>\n",
       "      <td>3.367671e+06</td>\n",
       "      <td>3.390670e+06</td>\n",
       "    </tr>\n",
       "    <tr>\n",
       "      <th>5</th>\n",
       "      <td>18667</td>\n",
       "      <td>3.135125e+06</td>\n",
       "      <td>3.152607e+06</td>\n",
       "    </tr>\n",
       "    <tr>\n",
       "      <th>6</th>\n",
       "      <td>15253</td>\n",
       "      <td>2.562026e+06</td>\n",
       "      <td>2.577802e+06</td>\n",
       "    </tr>\n",
       "    <tr>\n",
       "      <th>7</th>\n",
       "      <td>16072</td>\n",
       "      <td>2.632540e+06</td>\n",
       "      <td>2.647776e+06</td>\n",
       "    </tr>\n",
       "    <tr>\n",
       "      <th>8</th>\n",
       "      <td>13448</td>\n",
       "      <td>2.230345e+06</td>\n",
       "      <td>2.244468e+06</td>\n",
       "    </tr>\n",
       "    <tr>\n",
       "      <th>9</th>\n",
       "      <td>13109</td>\n",
       "      <td>2.084992e+06</td>\n",
       "      <td>2.097560e+06</td>\n",
       "    </tr>\n",
       "    <tr>\n",
       "      <th>10</th>\n",
       "      <td>22703</td>\n",
       "      <td>3.715555e+06</td>\n",
       "      <td>3.736727e+06</td>\n",
       "    </tr>\n",
       "    <tr>\n",
       "      <th>11</th>\n",
       "      <td>19798</td>\n",
       "      <td>3.180601e+06</td>\n",
       "      <td>3.199603e+06</td>\n",
       "    </tr>\n",
       "    <tr>\n",
       "      <th>12</th>\n",
       "      <td>28114</td>\n",
       "      <td>4.588415e+06</td>\n",
       "      <td>4.613443e+06</td>\n",
       "    </tr>\n",
       "  </tbody>\n",
       "</table>\n",
       "</div>"
      ],
      "text/plain": [
       "       Quantity Ordered    Price Each         Sales\n",
       "Month                                              \n",
       "1                 10903  1.811768e+06  1.822257e+06\n",
       "2                 13449  2.188885e+06  2.202022e+06\n",
       "3                 17005  2.791208e+06  2.807100e+06\n",
       "4                 20558  3.367671e+06  3.390670e+06\n",
       "5                 18667  3.135125e+06  3.152607e+06\n",
       "6                 15253  2.562026e+06  2.577802e+06\n",
       "7                 16072  2.632540e+06  2.647776e+06\n",
       "8                 13448  2.230345e+06  2.244468e+06\n",
       "9                 13109  2.084992e+06  2.097560e+06\n",
       "10                22703  3.715555e+06  3.736727e+06\n",
       "11                19798  3.180601e+06  3.199603e+06\n",
       "12                28114  4.588415e+06  4.613443e+06"
      ]
     },
     "execution_count": 12,
     "metadata": {},
     "output_type": "execute_result"
    }
   ],
   "source": [
    "all_data.groupby(['Month']).sum()"
   ]
  },
  {
   "cell_type": "code",
   "execution_count": 39,
   "metadata": {},
   "outputs": [
    {
     "name": "stdout",
     "output_type": "stream",
     "text": [
      "range(1, 13)\n"
     ]
    },
    {
     "data": {
      "image/png": "[encoded data removed]",
      "text/plain": [
       "<Figure size 432x288 with 1 Axes>"
      ]
     },
     "metadata": {
      "needs_background": "light"
     },
     "output_type": "display_data"
    }
   ],
   "source": [
    "months = range(1,13)\n",
    "print(months)\n",
    "\n",
    "plt.bar(months,all_data.groupby(['Month']).sum()['Sales'], color = 'limegreen')\n",
    "plt.xticks(months)\n",
    "plt.ylabel('Sales in USD ($-millions)')\n",
    "plt.xlabel('Month number')\n",
    "plt.show()"
   ]
  },
  {
   "cell_type": "markdown",
   "metadata": {},
   "source": [
    "##### December was the best month for sales in 2019 with its number of sales totaling approximately $4,613,443. "
   ]
  },
  {
   "cell_type": "markdown",
   "metadata": {},
   "source": [
    "#### January had the worst month in sales in 2019 with approximately $1,822,257 in sales"
   ]
  },
  {
   "cell_type": "markdown",
   "metadata": {},
   "source": [
    "### What city had the highest number of sales?"
   ]
  },
  {
   "cell_type": "code",
   "execution_count": 14,
   "metadata": {},
   "outputs": [
    {
     "data": {
      "text/html": [
       "<div>\n",
       "<style scoped>\n",
       "    .dataframe tbody tr th:only-of-type {\n",
       "        vertical-align: middle;\n",
       "    }\n",
       "\n",
       "    .dataframe tbody tr th {\n",
       "        vertical-align: top;\n",
       "    }\n",
       "\n",
       "    .dataframe thead th {\n",
       "        text-align: right;\n",
       "    }\n",
       "</style>\n",
       "<table border=\"1\" class=\"dataframe\">\n",
       "  <thead>\n",
       "    <tr style=\"text-align: right;\">\n",
       "      <th></th>\n",
       "      <th>Quantity Ordered</th>\n",
       "      <th>Price Each</th>\n",
       "      <th>Month</th>\n",
       "      <th>Sales</th>\n",
       "    </tr>\n",
       "    <tr>\n",
       "      <th>City</th>\n",
       "      <th></th>\n",
       "      <th></th>\n",
       "      <th></th>\n",
       "      <th></th>\n",
       "    </tr>\n",
       "  </thead>\n",
       "  <tbody>\n",
       "    <tr>\n",
       "      <th>Atlanta  (GA)</th>\n",
       "      <td>16602</td>\n",
       "      <td>2.779908e+06</td>\n",
       "      <td>104794</td>\n",
       "      <td>2.795499e+06</td>\n",
       "    </tr>\n",
       "    <tr>\n",
       "      <th>Austin  (TX)</th>\n",
       "      <td>11153</td>\n",
       "      <td>1.809874e+06</td>\n",
       "      <td>69829</td>\n",
       "      <td>1.819582e+06</td>\n",
       "    </tr>\n",
       "    <tr>\n",
       "      <th>Boston  (MA)</th>\n",
       "      <td>22528</td>\n",
       "      <td>3.637410e+06</td>\n",
       "      <td>141112</td>\n",
       "      <td>3.661642e+06</td>\n",
       "    </tr>\n",
       "    <tr>\n",
       "      <th>Dallas  (TX)</th>\n",
       "      <td>16730</td>\n",
       "      <td>2.752628e+06</td>\n",
       "      <td>104620</td>\n",
       "      <td>2.767975e+06</td>\n",
       "    </tr>\n",
       "    <tr>\n",
       "      <th>Los Angeles  (CA)</th>\n",
       "      <td>33289</td>\n",
       "      <td>5.421435e+06</td>\n",
       "      <td>208325</td>\n",
       "      <td>5.452571e+06</td>\n",
       "    </tr>\n",
       "    <tr>\n",
       "      <th>New York City  (NY)</th>\n",
       "      <td>27932</td>\n",
       "      <td>4.635371e+06</td>\n",
       "      <td>175741</td>\n",
       "      <td>4.664317e+06</td>\n",
       "    </tr>\n",
       "    <tr>\n",
       "      <th>Portland  (ME)</th>\n",
       "      <td>2750</td>\n",
       "      <td>4.471893e+05</td>\n",
       "      <td>17144</td>\n",
       "      <td>4.497583e+05</td>\n",
       "    </tr>\n",
       "    <tr>\n",
       "      <th>Portland  (OR)</th>\n",
       "      <td>11303</td>\n",
       "      <td>1.860558e+06</td>\n",
       "      <td>70621</td>\n",
       "      <td>1.870732e+06</td>\n",
       "    </tr>\n",
       "    <tr>\n",
       "      <th>San Francisco  (CA)</th>\n",
       "      <td>50239</td>\n",
       "      <td>8.211462e+06</td>\n",
       "      <td>315520</td>\n",
       "      <td>8.262204e+06</td>\n",
       "    </tr>\n",
       "    <tr>\n",
       "      <th>Seattle  (WA)</th>\n",
       "      <td>16553</td>\n",
       "      <td>2.733296e+06</td>\n",
       "      <td>104941</td>\n",
       "      <td>2.747755e+06</td>\n",
       "    </tr>\n",
       "  </tbody>\n",
       "</table>\n",
       "</div>"
      ],
      "text/plain": [
       "                     Quantity Ordered    Price Each   Month         Sales\n",
       "City                                                                     \n",
       "Atlanta  (GA)                   16602  2.779908e+06  104794  2.795499e+06\n",
       "Austin  (TX)                    11153  1.809874e+06   69829  1.819582e+06\n",
       "Boston  (MA)                    22528  3.637410e+06  141112  3.661642e+06\n",
       "Dallas  (TX)                    16730  2.752628e+06  104620  2.767975e+06\n",
       "Los Angeles  (CA)               33289  5.421435e+06  208325  5.452571e+06\n",
       "New York City  (NY)             27932  4.635371e+06  175741  4.664317e+06\n",
       "Portland  (ME)                   2750  4.471893e+05   17144  4.497583e+05\n",
       "Portland  (OR)                  11303  1.860558e+06   70621  1.870732e+06\n",
       "San Francisco  (CA)             50239  8.211462e+06  315520  8.262204e+06\n",
       "Seattle  (WA)                   16553  2.733296e+06  104941  2.747755e+06"
      ]
     },
     "execution_count": 14,
     "metadata": {},
     "output_type": "execute_result"
    }
   ],
   "source": [
    "all_data.groupby(['City']).sum()"
   ]
  },
  {
   "cell_type": "code",
   "execution_count": 38,
   "metadata": {},
   "outputs": [
    {
     "data": {
      "image/png": "[encoded data removed]",
      "text/plain": [
       "<Figure size 432x288 with 1 Axes>"
      ]
     },
     "metadata": {
      "needs_background": "light"
     },
     "output_type": "display_data"
    }
   ],
   "source": [
    "import matplotlib.pyplot as plt\n",
    "\n",
    "keys = [city for city, df in all_data.groupby(['City'])]\n",
    "\n",
    "plt.bar(keys,all_data.groupby(['City']).sum()['Sales'], color = 'r')\n",
    "plt.ylabel('Sales in USD ($ - millions)')\n",
    "plt.xlabel('Month number')\n",
    "plt.xticks(keys, rotation='vertical', size=8)\n",
    "plt.show()"
   ]
  },
  {
   "cell_type": "markdown",
   "metadata": {},
   "source": [
    "#### San Francisco, CA was the city with the highest number of sales in 2019"
   ]
  },
  {
   "cell_type": "markdown",
   "metadata": {},
   "source": [
    "### What time should advertisements be displayed to maximize likelihood of customers buying products?"
   ]
  },
  {
   "cell_type": "markdown",
   "metadata": {},
   "source": [
    "#### Add hour column"
   ]
  },
  {
   "cell_type": "code",
   "execution_count": 15,
   "metadata": {},
   "outputs": [
    {
     "data": {
      "text/html": [
       "<div>\n",
       "<style scoped>\n",
       "    .dataframe tbody tr th:only-of-type {\n",
       "        vertical-align: middle;\n",
       "    }\n",
       "\n",
       "    .dataframe tbody tr th {\n",
       "        vertical-align: top;\n",
       "    }\n",
       "\n",
       "    .dataframe thead th {\n",
       "        text-align: right;\n",
       "    }\n",
       "</style>\n",
       "<table border=\"1\" class=\"dataframe\">\n",
       "  <thead>\n",
       "    <tr style=\"text-align: right;\">\n",
       "      <th></th>\n",
       "      <th>Order ID</th>\n",
       "      <th>Product</th>\n",
       "      <th>Quantity Ordered</th>\n",
       "      <th>Price Each</th>\n",
       "      <th>Order Date</th>\n",
       "      <th>Purchase Address</th>\n",
       "      <th>Month</th>\n",
       "      <th>Sales</th>\n",
       "      <th>City</th>\n",
       "      <th>Hour</th>\n",
       "      <th>Minute</th>\n",
       "      <th>Count</th>\n",
       "    </tr>\n",
       "  </thead>\n",
       "  <tbody>\n",
       "    <tr>\n",
       "      <th>0</th>\n",
       "      <td>176558</td>\n",
       "      <td>USB-C Charging Cable</td>\n",
       "      <td>2</td>\n",
       "      <td>11.95</td>\n",
       "      <td>2019-04-19 08:46:00</td>\n",
       "      <td>917 1st St, Dallas, TX 75001</td>\n",
       "      <td>4</td>\n",
       "      <td>23.90</td>\n",
       "      <td>Dallas  (TX)</td>\n",
       "      <td>8</td>\n",
       "      <td>46</td>\n",
       "      <td>1</td>\n",
       "    </tr>\n",
       "    <tr>\n",
       "      <th>2</th>\n",
       "      <td>176559</td>\n",
       "      <td>Bose SoundSport Headphones</td>\n",
       "      <td>1</td>\n",
       "      <td>99.99</td>\n",
       "      <td>2019-04-07 22:30:00</td>\n",
       "      <td>682 Chestnut St, Boston, MA 02215</td>\n",
       "      <td>4</td>\n",
       "      <td>99.99</td>\n",
       "      <td>Boston  (MA)</td>\n",
       "      <td>22</td>\n",
       "      <td>30</td>\n",
       "      <td>1</td>\n",
       "    </tr>\n",
       "    <tr>\n",
       "      <th>3</th>\n",
       "      <td>176560</td>\n",
       "      <td>Google Phone</td>\n",
       "      <td>1</td>\n",
       "      <td>600.00</td>\n",
       "      <td>2019-04-12 14:38:00</td>\n",
       "      <td>669 Spruce St, Los Angeles, CA 90001</td>\n",
       "      <td>4</td>\n",
       "      <td>600.00</td>\n",
       "      <td>Los Angeles  (CA)</td>\n",
       "      <td>14</td>\n",
       "      <td>38</td>\n",
       "      <td>1</td>\n",
       "    </tr>\n",
       "    <tr>\n",
       "      <th>4</th>\n",
       "      <td>176560</td>\n",
       "      <td>Wired Headphones</td>\n",
       "      <td>1</td>\n",
       "      <td>11.99</td>\n",
       "      <td>2019-04-12 14:38:00</td>\n",
       "      <td>669 Spruce St, Los Angeles, CA 90001</td>\n",
       "      <td>4</td>\n",
       "      <td>11.99</td>\n",
       "      <td>Los Angeles  (CA)</td>\n",
       "      <td>14</td>\n",
       "      <td>38</td>\n",
       "      <td>1</td>\n",
       "    </tr>\n",
       "    <tr>\n",
       "      <th>5</th>\n",
       "      <td>176561</td>\n",
       "      <td>Wired Headphones</td>\n",
       "      <td>1</td>\n",
       "      <td>11.99</td>\n",
       "      <td>2019-04-30 09:27:00</td>\n",
       "      <td>333 8th St, Los Angeles, CA 90001</td>\n",
       "      <td>4</td>\n",
       "      <td>11.99</td>\n",
       "      <td>Los Angeles  (CA)</td>\n",
       "      <td>9</td>\n",
       "      <td>27</td>\n",
       "      <td>1</td>\n",
       "    </tr>\n",
       "  </tbody>\n",
       "</table>\n",
       "</div>"
      ],
      "text/plain": [
       "  Order ID                     Product  Quantity Ordered  Price Each  \\\n",
       "0   176558        USB-C Charging Cable                 2       11.95   \n",
       "2   176559  Bose SoundSport Headphones                 1       99.99   \n",
       "3   176560                Google Phone                 1      600.00   \n",
       "4   176560            Wired Headphones                 1       11.99   \n",
       "5   176561            Wired Headphones                 1       11.99   \n",
       "\n",
       "           Order Date                      Purchase Address  Month   Sales  \\\n",
       "0 2019-04-19 08:46:00          917 1st St, Dallas, TX 75001      4   23.90   \n",
       "2 2019-04-07 22:30:00     682 Chestnut St, Boston, MA 02215      4   99.99   \n",
       "3 2019-04-12 14:38:00  669 Spruce St, Los Angeles, CA 90001      4  600.00   \n",
       "4 2019-04-12 14:38:00  669 Spruce St, Los Angeles, CA 90001      4   11.99   \n",
       "5 2019-04-30 09:27:00     333 8th St, Los Angeles, CA 90001      4   11.99   \n",
       "\n",
       "                City  Hour  Minute  Count  \n",
       "0       Dallas  (TX)     8      46      1  \n",
       "2       Boston  (MA)    22      30      1  \n",
       "3  Los Angeles  (CA)    14      38      1  \n",
       "4  Los Angeles  (CA)    14      38      1  \n",
       "5  Los Angeles  (CA)     9      27      1  "
      ]
     },
     "execution_count": 15,
     "metadata": {},
     "output_type": "execute_result"
    }
   ],
   "source": [
    "all_data['Order Date'] = pd.to_datetime(all_data['Order Date'])\n",
    "all_data['Hour'] = pd.to_datetime(all_data['Order Date']).dt.hour\n",
    "all_data['Minute'] = pd.to_datetime(all_data['Order Date']).dt.minute\n",
    "all_data['Count'] = 1\n",
    "all_data.head()"
   ]
  },
  {
   "cell_type": "code",
   "execution_count": 40,
   "metadata": {},
   "outputs": [
    {
     "data": {
      "image/png": "[encoded data removed]",
      "text/plain": [
       "<Figure size 432x288 with 1 Axes>"
      ]
     },
     "metadata": {
      "needs_background": "light"
     },
     "output_type": "display_data"
    }
   ],
   "source": [
    "keys = [pair for pair, df in all_data.groupby(['Hour'])]\n",
    "\n",
    "plt.plot(keys, all_data.groupby(['Hour']).count()['Count'])\n",
    "plt.ylabel('Number of Orders')\n",
    "plt.xlabel('Time (in hours)')\n",
    "plt.xticks(keys)\n",
    "plt.grid()\n",
    "plt.show()"
   ]
  },
  {
   "cell_type": "markdown",
   "metadata": {},
   "source": [
    "#### Ads should be displayed around 11:00am and 7:00pm because that is when the company receives the most orders each day"
   ]
  },
  {
   "cell_type": "markdown",
   "metadata": {},
   "source": [
    "### What products are most often sold together?"
   ]
  },
  {
   "cell_type": "code",
   "execution_count": 23,
   "metadata": {},
   "outputs": [
    {
     "name": "stderr",
     "output_type": "stream",
     "text": [
      "<ipython-input-23-2c2088564577>:3: SettingWithCopyWarning: \n",
      "A value is trying to be set on a copy of a slice from a DataFrame.\n",
      "Try using .loc[row_indexer,col_indexer] = value instead\n",
      "\n",
      "See the caveats in the documentation: https://pandas.pydata.org/pandas-docs/stable/user_guide/indexing.html#returning-a-view-versus-a-copy\n",
      "  df['Grouped'] = df.groupby('Order ID')['Product'].transform(lambda x: ','.join(x))\n"
     ]
    },
    {
     "data": {
      "text/html": [
       "<div>\n",
       "<style scoped>\n",
       "    .dataframe tbody tr th:only-of-type {\n",
       "        vertical-align: middle;\n",
       "    }\n",
       "\n",
       "    .dataframe tbody tr th {\n",
       "        vertical-align: top;\n",
       "    }\n",
       "\n",
       "    .dataframe thead th {\n",
       "        text-align: right;\n",
       "    }\n",
       "</style>\n",
       "<table border=\"1\" class=\"dataframe\">\n",
       "  <thead>\n",
       "    <tr style=\"text-align: right;\">\n",
       "      <th></th>\n",
       "      <th>Order ID</th>\n",
       "      <th>Grouped</th>\n",
       "    </tr>\n",
       "  </thead>\n",
       "  <tbody>\n",
       "    <tr>\n",
       "      <th>3</th>\n",
       "      <td>176560</td>\n",
       "      <td>Google Phone,Wired Headphones</td>\n",
       "    </tr>\n",
       "    <tr>\n",
       "      <th>18</th>\n",
       "      <td>176574</td>\n",
       "      <td>Google Phone,USB-C Charging Cable</td>\n",
       "    </tr>\n",
       "    <tr>\n",
       "      <th>30</th>\n",
       "      <td>176585</td>\n",
       "      <td>Bose SoundSport Headphones,Bose SoundSport Hea...</td>\n",
       "    </tr>\n",
       "    <tr>\n",
       "      <th>32</th>\n",
       "      <td>176586</td>\n",
       "      <td>AAA Batteries (4-pack),Google Phone</td>\n",
       "    </tr>\n",
       "    <tr>\n",
       "      <th>119</th>\n",
       "      <td>176672</td>\n",
       "      <td>Lightning Charging Cable,USB-C Charging Cable</td>\n",
       "    </tr>\n",
       "  </tbody>\n",
       "</table>\n",
       "</div>"
      ],
      "text/plain": [
       "    Order ID                                            Grouped\n",
       "3     176560                      Google Phone,Wired Headphones\n",
       "18    176574                  Google Phone,USB-C Charging Cable\n",
       "30    176585  Bose SoundSport Headphones,Bose SoundSport Hea...\n",
       "32    176586                AAA Batteries (4-pack),Google Phone\n",
       "119   176672      Lightning Charging Cable,USB-C Charging Cable"
      ]
     },
     "execution_count": 23,
     "metadata": {},
     "output_type": "execute_result"
    }
   ],
   "source": [
    "df = all_data[all_data['Order ID'].duplicated(keep=False)]\n",
    "\n",
    "df['Grouped'] = df.groupby('Order ID')['Product'].transform(lambda x: ','.join(x))\n",
    "\n",
    "df2 = df[['Order ID', 'Grouped']].drop_duplicates()\n",
    "\n",
    "df2.head()"
   ]
  },
  {
   "cell_type": "code",
   "execution_count": 24,
   "metadata": {},
   "outputs": [
    {
     "name": "stdout",
     "output_type": "stream",
     "text": [
      "('iPhone', 'Lightning Charging Cable') 1005\n",
      "('Google Phone', 'USB-C Charging Cable') 987\n",
      "('iPhone', 'Wired Headphones') 447\n",
      "('Google Phone', 'Wired Headphones') 414\n",
      "('Vareebadd Phone', 'USB-C Charging Cable') 361\n",
      "('iPhone', 'Apple Airpods Headphones') 360\n",
      "('Google Phone', 'Bose SoundSport Headphones') 220\n",
      "('USB-C Charging Cable', 'Wired Headphones') 160\n",
      "('Vareebadd Phone', 'Wired Headphones') 143\n",
      "('Lightning Charging Cable', 'Wired Headphones') 92\n"
     ]
    }
   ],
   "source": [
    "from itertools import combinations\n",
    "from collections import Counter\n",
    "\n",
    "count = Counter()\n",
    "\n",
    "for row in df2['Grouped']:\n",
    "    row_list = row.split(',')\n",
    "    count.update(Counter(combinations(row_list, 2)))\n",
    "\n",
    "for key,value in count.most_common(10):\n",
    "    print(key, value)"
   ]
  },
  {
   "cell_type": "markdown",
   "metadata": {},
   "source": [
    "#### For promotions and deals to offer during holiday seasons or sales, a duo set of an iPhone and lightning charging cable or the Google phone and its charging cable would sell very well as they are most frequently bought together"
   ]
  },
  {
   "cell_type": "code",
   "execution_count": 25,
   "metadata": {},
   "outputs": [
    {
     "name": "stdout",
     "output_type": "stream",
     "text": [
      "('Google Phone', 'USB-C Charging Cable', 'Wired Headphones') 87\n",
      "('iPhone', 'Lightning Charging Cable', 'Wired Headphones') 62\n",
      "('iPhone', 'Lightning Charging Cable', 'Apple Airpods Headphones') 47\n",
      "('Google Phone', 'USB-C Charging Cable', 'Bose SoundSport Headphones') 35\n",
      "('Vareebadd Phone', 'USB-C Charging Cable', 'Wired Headphones') 33\n",
      "('iPhone', 'Apple Airpods Headphones', 'Wired Headphones') 27\n",
      "('Google Phone', 'Bose SoundSport Headphones', 'Wired Headphones') 24\n",
      "('Vareebadd Phone', 'USB-C Charging Cable', 'Bose SoundSport Headphones') 16\n",
      "('USB-C Charging Cable', 'Bose SoundSport Headphones', 'Wired Headphones') 5\n",
      "('Vareebadd Phone', 'Bose SoundSport Headphones', 'Wired Headphones') 5\n"
     ]
    }
   ],
   "source": [
    "from itertools import combinations\n",
    "from collections import Counter\n",
    "\n",
    "count = Counter()\n",
    "\n",
    "for row in df2['Grouped']:\n",
    "    row_list = row.split(',')\n",
    "    count.update(Counter(combinations(row_list, 3)))\n",
    "\n",
    "for key,value in count.most_common(10):\n",
    "    print(key, value)"
   ]
  },
  {
   "cell_type": "markdown",
   "metadata": {},
   "source": [
    "#### Furthermore, a gift set of a Google phone, its charging cable and wired headphones would sell well during the holiday season as well as it is the most bought 3 set combination at the company"
   ]
  },
  {
   "cell_type": "markdown",
   "metadata": {},
   "source": [
    "### Which product sold the most and why do we think it did so well?"
   ]
  },
  {
   "cell_type": "code",
   "execution_count": 28,
   "metadata": {},
   "outputs": [
    {
     "data": {
      "image/png": "[encoded data removed]",
      "text/plain": [
       "<Figure size 432x288 with 1 Axes>"
      ]
     },
     "metadata": {
      "needs_background": "light"
     },
     "output_type": "display_data"
    }
   ],
   "source": [
    "product_group = all_data.groupby('Product')\n",
    "quantity_ordered = product_group.sum()['Quantity Ordered']\n",
    "\n",
    "keys = [pair for pair, df in product_group]\n",
    "plt.bar(keys, quantity_ordered)\n",
    "plt.ylabel('Quantity Ordered')\n",
    "plt.xlabel('Product Name')\n",
    "plt.xticks(keys, rotation='vertical', size=8)\n",
    "plt.show()"
   ]
  },
  {
   "cell_type": "code",
   "execution_count": 36,
   "metadata": {},
   "outputs": [
    {
     "name": "stderr",
     "output_type": "stream",
     "text": [
      "<ipython-input-36-62a2495f03ee>:12: UserWarning: FixedFormatter should only be used together with FixedLocator\n",
      "  ax1.set_xticklabels(keys, rotation='vertical', size=8)\n",
      "<ipython-input-36-62a2495f03ee>:14: UserWarning: Matplotlib is currently using module://ipykernel.pylab.backend_inline, which is a non-GUI backend, so cannot show the figure.\n",
      "  fig.show()\n"
     ]
    },
    {
     "data": {
      "image/png": "[encoded data removed]",
      "text/plain": [
       "<Figure size 432x288 with 2 Axes>"
      ]
     },
     "metadata": {
      "needs_background": "light"
     },
     "output_type": "display_data"
    }
   ],
   "source": [
    "prices = all_data.groupby('Product').mean()['Price Each']\n",
    "\n",
    "fig, ax1 = plt.subplots()\n",
    "\n",
    "ax2 = ax1.twinx()\n",
    "ax1.bar(keys, quantity_ordered, color='c')\n",
    "ax2.plot(keys, prices, color='r')\n",
    "\n",
    "ax1.set_xlabel('Product Name')\n",
    "ax1.set_ylabel('Quantity Ordered', color='c')\n",
    "ax2.set_ylabel('Price ($)', color='r')\n",
    "ax1.set_xticklabels(keys, rotation='vertical', size=8)\n",
    "\n",
    "fig.show()"
   ]
  },
  {
   "cell_type": "markdown",
   "metadata": {},
   "source": [
    "#### The most sold product in 2019 were AAA batteries. They as well as other top sold products such as AA batteries and charging cables are cheap. They are also useful for many different electronics that are battery powered. "
   ]
  },
  {
   "cell_type": "code",
   "execution_count": null,
   "metadata": {},
   "outputs": [],
   "source": []
  }
 ],
 "metadata": {
  "kernelspec": {
   "display_name": "Python 3",
   "language": "python",
   "name": "python3"
  },
  "language_info": {
   "codemirror_mode": {
    "name": "ipython",
    "version": 3
   },
   "file_extension": ".py",
   "mimetype": "text/x-python",
   "name": "python",
   "nbconvert_exporter": "python",
   "pygments_lexer": "ipython3",
   "version": "3.9.1"
  }
 },
 "nbformat": 4,
 "nbformat_minor": 4
}
